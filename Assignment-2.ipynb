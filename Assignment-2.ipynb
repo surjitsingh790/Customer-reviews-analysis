{
 "cells": [
  {
   "cell_type": "markdown",
   "metadata": {},
   "source": [
    "# Assignment-2\n",
    "\n",
    "\n",
    "\n",
    "Instructor- Vahid Hadvi\n",
    "\n",
    "\n",
    "Submitted by- "
   ]
  },
  {
   "cell_type": "code",
   "execution_count": 1,
   "metadata": {},
   "outputs": [],
   "source": [
    "# Importing all usefull libraries\n",
    "\n",
    "import pandas as pd\n",
    "import numpy as np\n",
    "\n",
    "import re\n",
    "import nltk\n",
    "import string\n",
    "from nltk.tokenize import word_tokenize\n",
    "stopwords = nltk.corpus.stopwords.words('english')\n",
    "ps = nltk.PorterStemmer()\n",
    "\n",
    "import matplotlib.pyplot as plt\n",
    "import seaborn as sns\n",
    "import pylab as pl\n",
    "plt.rcParams[\"figure.figsize\"] = [10, 6]\n",
    "%config InlineBackend.figure_format = 'retina'\n",
    "\n",
    "import warnings\n",
    "warnings.filterwarnings('ignore')"
   ]
  },
  {
   "cell_type": "code",
   "execution_count": 2,
   "metadata": {},
   "outputs": [
    {
     "data": {
      "text/html": [
       "<div>\n",
       "<style scoped>\n",
       "    .dataframe tbody tr th:only-of-type {\n",
       "        vertical-align: middle;\n",
       "    }\n",
       "\n",
       "    .dataframe tbody tr th {\n",
       "        vertical-align: top;\n",
       "    }\n",
       "\n",
       "    .dataframe thead th {\n",
       "        text-align: right;\n",
       "    }\n",
       "</style>\n",
       "<table border=\"1\" class=\"dataframe\">\n",
       "  <thead>\n",
       "    <tr style=\"text-align: right;\">\n",
       "      <th></th>\n",
       "      <th>Unnamed: 0</th>\n",
       "      <th>product</th>\n",
       "      <th>product_company</th>\n",
       "      <th>profile_me</th>\n",
       "      <th>review_title</th>\n",
       "      <th>review_rating</th>\n",
       "      <th>review_text</th>\n",
       "      <th>helpful_count</th>\n",
       "      <th>total_comments</th>\n",
       "      <th>review_country</th>\n",
       "      <th>...</th>\n",
       "      <th>url</th>\n",
       "      <th>crawled_at</th>\n",
       "      <th>_id</th>\n",
       "      <th>verified_purchase</th>\n",
       "      <th>color</th>\n",
       "      <th>style_me</th>\n",
       "      <th>size_me</th>\n",
       "      <th>category</th>\n",
       "      <th>sub_category</th>\n",
       "      <th>images</th>\n",
       "    </tr>\n",
       "  </thead>\n",
       "  <tbody>\n",
       "    <tr>\n",
       "      <th>0</th>\n",
       "      <td>0</td>\n",
       "      <td>OnePlus Nord 5G (Gray Onyx, 8GB RAM, 128GB Sto...</td>\n",
       "      <td>OnePlus</td>\n",
       "      <td>Nikhil</td>\n",
       "      <td>*Read before you buy!!*</td>\n",
       "      <td>5.0 out of 5 stars</td>\n",
       "      <td>\\n  Yea..pre-ordered on 28 July, got it on 4 A...</td>\n",
       "      <td>721 people found this helpful</td>\n",
       "      <td>3</td>\n",
       "      <td>India</td>\n",
       "      <td>...</td>\n",
       "      <td>https://www.amazon.in/product-reviews/B08695ZS...</td>\n",
       "      <td>10/18/2020 11:23</td>\n",
       "      <td>45ca015a-2e39-5650-a174-ba966dd1e51f</td>\n",
       "      <td>Verified Purchase</td>\n",
       "      <td>Marble Blue</td>\n",
       "      <td>8GB RAM + 128GB Storage</td>\n",
       "      <td>NaN</td>\n",
       "      <td>electronics</td>\n",
       "      <td>mobiles</td>\n",
       "      <td>['https://images-.ssl-images-amazon.com/images...</td>\n",
       "    </tr>\n",
       "    <tr>\n",
       "      <th>1</th>\n",
       "      <td>1</td>\n",
       "      <td>OnePlus Nord 5G (Gray Onyx, 8GB RAM, 128GB Sto...</td>\n",
       "      <td>OnePlus</td>\n",
       "      <td>Amit</td>\n",
       "      <td>Near to mid range  Perfection</td>\n",
       "      <td>5.0 out of 5 stars</td>\n",
       "      <td>\\n  Got it delivered yesterday , used for abou...</td>\n",
       "      <td>436 people found this helpful</td>\n",
       "      <td>1</td>\n",
       "      <td>India</td>\n",
       "      <td>...</td>\n",
       "      <td>https://www.amazon.in/product-reviews/B08695ZS...</td>\n",
       "      <td>10/18/2020 11:23</td>\n",
       "      <td>6820f8ae-f3cd-5783-b826-5e5805376047</td>\n",
       "      <td>Verified Purchase</td>\n",
       "      <td>NaN</td>\n",
       "      <td>NaN</td>\n",
       "      <td>NaN</td>\n",
       "      <td>electronics</td>\n",
       "      <td>mobiles</td>\n",
       "      <td>[]</td>\n",
       "    </tr>\n",
       "  </tbody>\n",
       "</table>\n",
       "<p>2 rows × 21 columns</p>\n",
       "</div>"
      ],
      "text/plain": [
       "   Unnamed: 0                                            product  \\\n",
       "0           0  OnePlus Nord 5G (Gray Onyx, 8GB RAM, 128GB Sto...   \n",
       "1           1  OnePlus Nord 5G (Gray Onyx, 8GB RAM, 128GB Sto...   \n",
       "\n",
       "  product_company profile_me                   review_title  \\\n",
       "0         OnePlus     Nikhil        *Read before you buy!!*   \n",
       "1         OnePlus       Amit  Near to mid range  Perfection   \n",
       "\n",
       "        review_rating                                        review_text  \\\n",
       "0  5.0 out of 5 stars  \\n  Yea..pre-ordered on 28 July, got it on 4 A...   \n",
       "1  5.0 out of 5 stars  \\n  Got it delivered yesterday , used for abou...   \n",
       "\n",
       "                   helpful_count  total_comments review_country  ...  \\\n",
       "0  721 people found this helpful               3         India   ...   \n",
       "1  436 people found this helpful               1         India   ...   \n",
       "\n",
       "                                                 url        crawled_at  \\\n",
       "0  https://www.amazon.in/product-reviews/B08695ZS...  10/18/2020 11:23   \n",
       "1  https://www.amazon.in/product-reviews/B08695ZS...  10/18/2020 11:23   \n",
       "\n",
       "                                    _id  verified_purchase         color  \\\n",
       "0  45ca015a-2e39-5650-a174-ba966dd1e51f  Verified Purchase   Marble Blue   \n",
       "1  6820f8ae-f3cd-5783-b826-5e5805376047  Verified Purchase           NaN   \n",
       "\n",
       "                   style_me size_me     category sub_category  \\\n",
       "0   8GB RAM + 128GB Storage     NaN  electronics      mobiles   \n",
       "1                       NaN     NaN  electronics      mobiles   \n",
       "\n",
       "                                              images  \n",
       "0  ['https://images-.ssl-images-amazon.com/images...  \n",
       "1                                                 []  \n",
       "\n",
       "[2 rows x 21 columns]"
      ]
     },
     "execution_count": 2,
     "metadata": {},
     "output_type": "execute_result"
    }
   ],
   "source": [
    "#importing the data file\n",
    "df = pd.read_csv(\"amazon_one_plus_review.csv\")\n",
    "df.head(2)"
   ]
  },
  {
   "cell_type": "markdown",
   "metadata": {},
   "source": [
    "# Step-1: Pre-processing"
   ]
  },
  {
   "cell_type": "code",
   "execution_count": 3,
   "metadata": {},
   "outputs": [
    {
     "data": {
      "text/plain": [
       "Index(['Unnamed: 0', 'product', 'product_company', 'profile_me',\n",
       "       'review_title', 'review_rating', 'review_text', 'helpful_count',\n",
       "       'total_comments', 'review_country', 'reviewed_at', 'url', 'crawled_at',\n",
       "       '_id', 'verified_purchase', 'color', 'style_me', 'size_me', 'category',\n",
       "       'sub_category', 'images'],\n",
       "      dtype='object')"
      ]
     },
     "execution_count": 3,
     "metadata": {},
     "output_type": "execute_result"
    }
   ],
   "source": [
    "#checking the column names\n",
    "df.columns"
   ]
  },
  {
   "cell_type": "markdown",
   "metadata": {},
   "source": [
    "Checking out null values and shape of the data"
   ]
  },
  {
   "cell_type": "code",
   "execution_count": 4,
   "metadata": {},
   "outputs": [
    {
     "name": "stdout",
     "output_type": "stream",
     "text": [
      "(30612, 21)\n"
     ]
    },
    {
     "data": {
      "text/plain": [
       "Unnamed: 0               0\n",
       "product                  0\n",
       "product_company          0\n",
       "profile_me               0\n",
       "review_title            25\n",
       "review_rating            0\n",
       "review_text              0\n",
       "helpful_count            0\n",
       "total_comments           0\n",
       "review_country           0\n",
       "reviewed_at              0\n",
       "url                      0\n",
       "crawled_at               0\n",
       "_id                      0\n",
       "verified_purchase      613\n",
       "color                 9931\n",
       "style_me             20930\n",
       "size_me              19613\n",
       "category                 0\n",
       "sub_category             0\n",
       "images                   0\n",
       "dtype: int64"
      ]
     },
     "execution_count": 4,
     "metadata": {},
     "output_type": "execute_result"
    }
   ],
   "source": [
    "print(df.shape)\n",
    "df.isnull().sum()"
   ]
  },
  {
   "cell_type": "markdown",
   "metadata": {},
   "source": [
    "Dropping the columns having the maximum null values ('color', 'style_me', 'size_me') so that numbers of samples do not decrease. "
   ]
  },
  {
   "cell_type": "code",
   "execution_count": 5,
   "metadata": {},
   "outputs": [
    {
     "data": {
      "text/html": [
       "<div>\n",
       "<style scoped>\n",
       "    .dataframe tbody tr th:only-of-type {\n",
       "        vertical-align: middle;\n",
       "    }\n",
       "\n",
       "    .dataframe tbody tr th {\n",
       "        vertical-align: top;\n",
       "    }\n",
       "\n",
       "    .dataframe thead th {\n",
       "        text-align: right;\n",
       "    }\n",
       "</style>\n",
       "<table border=\"1\" class=\"dataframe\">\n",
       "  <thead>\n",
       "    <tr style=\"text-align: right;\">\n",
       "      <th></th>\n",
       "      <th>Unnamed: 0</th>\n",
       "      <th>product</th>\n",
       "      <th>product_company</th>\n",
       "      <th>profile_me</th>\n",
       "      <th>review_title</th>\n",
       "      <th>review_rating</th>\n",
       "      <th>review_text</th>\n",
       "      <th>helpful_count</th>\n",
       "      <th>total_comments</th>\n",
       "      <th>review_country</th>\n",
       "      <th>reviewed_at</th>\n",
       "      <th>url</th>\n",
       "      <th>crawled_at</th>\n",
       "      <th>_id</th>\n",
       "      <th>verified_purchase</th>\n",
       "      <th>category</th>\n",
       "      <th>sub_category</th>\n",
       "      <th>images</th>\n",
       "    </tr>\n",
       "  </thead>\n",
       "  <tbody>\n",
       "    <tr>\n",
       "      <th>0</th>\n",
       "      <td>0</td>\n",
       "      <td>OnePlus Nord 5G (Gray Onyx, 8GB RAM, 128GB Sto...</td>\n",
       "      <td>OnePlus</td>\n",
       "      <td>Nikhil</td>\n",
       "      <td>*Read before you buy!!*</td>\n",
       "      <td>5.0 out of 5 stars</td>\n",
       "      <td>\\n  Yea..pre-ordered on 28 July, got it on 4 A...</td>\n",
       "      <td>721 people found this helpful</td>\n",
       "      <td>3</td>\n",
       "      <td>India</td>\n",
       "      <td>8/4/2020 0:00</td>\n",
       "      <td>https://www.amazon.in/product-reviews/B08695ZS...</td>\n",
       "      <td>10/18/2020 11:23</td>\n",
       "      <td>45ca015a-2e39-5650-a174-ba966dd1e51f</td>\n",
       "      <td>Verified Purchase</td>\n",
       "      <td>electronics</td>\n",
       "      <td>mobiles</td>\n",
       "      <td>['https://images-.ssl-images-amazon.com/images...</td>\n",
       "    </tr>\n",
       "    <tr>\n",
       "      <th>1</th>\n",
       "      <td>1</td>\n",
       "      <td>OnePlus Nord 5G (Gray Onyx, 8GB RAM, 128GB Sto...</td>\n",
       "      <td>OnePlus</td>\n",
       "      <td>Amit</td>\n",
       "      <td>Near to mid range  Perfection</td>\n",
       "      <td>5.0 out of 5 stars</td>\n",
       "      <td>\\n  Got it delivered yesterday , used for abou...</td>\n",
       "      <td>436 people found this helpful</td>\n",
       "      <td>1</td>\n",
       "      <td>India</td>\n",
       "      <td>8/3/2020 0:00</td>\n",
       "      <td>https://www.amazon.in/product-reviews/B08695ZS...</td>\n",
       "      <td>10/18/2020 11:23</td>\n",
       "      <td>6820f8ae-f3cd-5783-b826-5e5805376047</td>\n",
       "      <td>Verified Purchase</td>\n",
       "      <td>electronics</td>\n",
       "      <td>mobiles</td>\n",
       "      <td>[]</td>\n",
       "    </tr>\n",
       "    <tr>\n",
       "      <th>2</th>\n",
       "      <td>2</td>\n",
       "      <td>OnePlus Nord 5G (Gray Onyx, 8GB RAM, 128GB Sto...</td>\n",
       "      <td>OnePlus</td>\n",
       "      <td>aishwarya</td>\n",
       "      <td>Great price!</td>\n",
       "      <td>5.0 out of 5 stars</td>\n",
       "      <td>\\n  An amazing phone!</td>\n",
       "      <td>322 people found this helpful</td>\n",
       "      <td>1</td>\n",
       "      <td>India</td>\n",
       "      <td>8/4/2020 0:00</td>\n",
       "      <td>https://www.amazon.in/product-reviews/B08695ZS...</td>\n",
       "      <td>10/18/2020 11:23</td>\n",
       "      <td>bea91c43-8d65-5ef5-ab04-595a5f5cc542</td>\n",
       "      <td>Verified Purchase</td>\n",
       "      <td>electronics</td>\n",
       "      <td>mobiles</td>\n",
       "      <td>['https://images-.ssl-images-amazon.com/images...</td>\n",
       "    </tr>\n",
       "    <tr>\n",
       "      <th>3</th>\n",
       "      <td>3</td>\n",
       "      <td>OnePlus Nord 5G (Gray Onyx, 8GB RAM, 128GB Sto...</td>\n",
       "      <td>OnePlus</td>\n",
       "      <td>vasu a.</td>\n",
       "      <td>Beast in OnePlus.</td>\n",
       "      <td>5.0 out of 5 stars</td>\n",
       "      <td>\\n  Brilliant..</td>\n",
       "      <td>243 people found this helpful</td>\n",
       "      <td>7</td>\n",
       "      <td>India</td>\n",
       "      <td>8/2/2020 0:00</td>\n",
       "      <td>https://www.amazon.in/product-reviews/B08695ZS...</td>\n",
       "      <td>10/18/2020 11:23</td>\n",
       "      <td>76f68b53-5c52-56b2-9727-a5ab8c4bb4ff</td>\n",
       "      <td>Verified Purchase</td>\n",
       "      <td>electronics</td>\n",
       "      <td>mobiles</td>\n",
       "      <td>['https://images-.ssl-images-amazon.com/images...</td>\n",
       "    </tr>\n",
       "    <tr>\n",
       "      <th>4</th>\n",
       "      <td>4</td>\n",
       "      <td>OnePlus Nord 5G (Gray Onyx, 8GB RAM, 128GB Sto...</td>\n",
       "      <td>OnePlus</td>\n",
       "      <td>Amazon Customer</td>\n",
       "      <td>Changed to Nord from 6t</td>\n",
       "      <td>5.0 out of 5 stars</td>\n",
       "      <td>\\n  I was skeptical about changing from One pl...</td>\n",
       "      <td>109 people found this helpful</td>\n",
       "      <td>2</td>\n",
       "      <td>India</td>\n",
       "      <td>8/4/2020 0:00</td>\n",
       "      <td>https://www.amazon.in/product-reviews/B08695ZS...</td>\n",
       "      <td>10/18/2020 11:23</td>\n",
       "      <td>22228681-b884-56a1-b04e-87167f6f76e6</td>\n",
       "      <td>Verified Purchase</td>\n",
       "      <td>electronics</td>\n",
       "      <td>mobiles</td>\n",
       "      <td>[]</td>\n",
       "    </tr>\n",
       "    <tr>\n",
       "      <th>...</th>\n",
       "      <td>...</td>\n",
       "      <td>...</td>\n",
       "      <td>...</td>\n",
       "      <td>...</td>\n",
       "      <td>...</td>\n",
       "      <td>...</td>\n",
       "      <td>...</td>\n",
       "      <td>...</td>\n",
       "      <td>...</td>\n",
       "      <td>...</td>\n",
       "      <td>...</td>\n",
       "      <td>...</td>\n",
       "      <td>...</td>\n",
       "      <td>...</td>\n",
       "      <td>...</td>\n",
       "      <td>...</td>\n",
       "      <td>...</td>\n",
       "      <td>...</td>\n",
       "    </tr>\n",
       "    <tr>\n",
       "      <th>30607</th>\n",
       "      <td>30607</td>\n",
       "      <td>Redmi Note 9 Pro (Aurora Blue, 4GB RAM, 64GB S...</td>\n",
       "      <td>Redmi</td>\n",
       "      <td>rakesh</td>\n",
       "      <td>Great but not satisfied for me</td>\n",
       "      <td>2.0 out of 5 stars</td>\n",
       "      <td>\\n  Quality of phone is great but from my pers...</td>\n",
       "      <td>0</td>\n",
       "      <td>0</td>\n",
       "      <td>India</td>\n",
       "      <td>9/3/2020 0:00</td>\n",
       "      <td>https://www.amazon.in/product-reviews/B077Q7GW...</td>\n",
       "      <td>10/18/2020 17:37</td>\n",
       "      <td>5b17d02b-9a14-5802-8523-c9835f923bd5</td>\n",
       "      <td>Verified Purchase</td>\n",
       "      <td>electronics</td>\n",
       "      <td>mobiles</td>\n",
       "      <td>[]</td>\n",
       "    </tr>\n",
       "    <tr>\n",
       "      <th>30608</th>\n",
       "      <td>30608</td>\n",
       "      <td>Redmi Note 9 Pro (Aurora Blue, 4GB RAM, 64GB S...</td>\n",
       "      <td>Redmi</td>\n",
       "      <td>Amazon Customer</td>\n",
       "      <td>Not recommend</td>\n",
       "      <td>2.0 out of 5 stars</td>\n",
       "      <td>\\n  Not recommend\\n</td>\n",
       "      <td>0</td>\n",
       "      <td>0</td>\n",
       "      <td>India</td>\n",
       "      <td>5/20/2020 0:00</td>\n",
       "      <td>https://www.amazon.in/product-reviews/B077Q7GW...</td>\n",
       "      <td>10/18/2020 17:37</td>\n",
       "      <td>633b24b0-89ed-5ba6-b651-09eef6c2aa44</td>\n",
       "      <td>Verified Purchase</td>\n",
       "      <td>electronics</td>\n",
       "      <td>mobiles</td>\n",
       "      <td>[]</td>\n",
       "    </tr>\n",
       "    <tr>\n",
       "      <th>30609</th>\n",
       "      <td>30609</td>\n",
       "      <td>Redmi Note 9 Pro (Aurora Blue, 4GB RAM, 64GB S...</td>\n",
       "      <td>Redmi</td>\n",
       "      <td>SREEKUMAR V</td>\n",
       "      <td>WORST MARKETING TACTICS OF FLASH SALE OF REDMI...</td>\n",
       "      <td>2.0 out of 5 stars</td>\n",
       "      <td>\\n  Redmi and Amazon is engaged in a worst mar...</td>\n",
       "      <td>3 people found this helpful</td>\n",
       "      <td>0</td>\n",
       "      <td>India</td>\n",
       "      <td>6/29/2020 0:00</td>\n",
       "      <td>https://www.amazon.in/product-reviews/B077Q7GW...</td>\n",
       "      <td>10/18/2020 17:37</td>\n",
       "      <td>961649c7-ab01-5e9b-8c09-ab9e8a1e6c6d</td>\n",
       "      <td>NaN</td>\n",
       "      <td>electronics</td>\n",
       "      <td>mobiles</td>\n",
       "      <td>[]</td>\n",
       "    </tr>\n",
       "    <tr>\n",
       "      <th>30610</th>\n",
       "      <td>30610</td>\n",
       "      <td>Redmi Note 9 Pro (Aurora Blue, 4GB RAM, 64GB S...</td>\n",
       "      <td>Redmi</td>\n",
       "      <td>Abhishek M.</td>\n",
       "      <td>Display retention issue</td>\n",
       "      <td>2.0 out of 5 stars</td>\n",
       "      <td>\\n  I am facing display retention problem, aft...</td>\n",
       "      <td>0</td>\n",
       "      <td>0</td>\n",
       "      <td>India</td>\n",
       "      <td>4/26/2020 0:00</td>\n",
       "      <td>https://www.amazon.in/product-reviews/B077Q7GW...</td>\n",
       "      <td>10/18/2020 17:37</td>\n",
       "      <td>bd56d1dc-016b-5671-ae3f-ad2529dbe0b2</td>\n",
       "      <td>NaN</td>\n",
       "      <td>electronics</td>\n",
       "      <td>mobiles</td>\n",
       "      <td>[]</td>\n",
       "    </tr>\n",
       "    <tr>\n",
       "      <th>30611</th>\n",
       "      <td>30611</td>\n",
       "      <td>Redmi Note 9 Pro (Aurora Blue, 4GB RAM, 64GB S...</td>\n",
       "      <td>Redmi</td>\n",
       "      <td>Amazon Customer</td>\n",
       "      <td>Camera quality is bad 👎</td>\n",
       "      <td>2.0 out of 5 stars</td>\n",
       "      <td>\\n  Front camera quality is worse as compare t...</td>\n",
       "      <td>0</td>\n",
       "      <td>0</td>\n",
       "      <td>India</td>\n",
       "      <td>7/5/2020 0:00</td>\n",
       "      <td>https://www.amazon.in/product-reviews/B077Q7GW...</td>\n",
       "      <td>10/18/2020 17:37</td>\n",
       "      <td>23f38628-3acd-5ada-9cd8-f4d86d342987</td>\n",
       "      <td>Verified Purchase</td>\n",
       "      <td>electronics</td>\n",
       "      <td>mobiles</td>\n",
       "      <td>[]</td>\n",
       "    </tr>\n",
       "  </tbody>\n",
       "</table>\n",
       "<p>30612 rows × 18 columns</p>\n",
       "</div>"
      ],
      "text/plain": [
       "       Unnamed: 0                                            product  \\\n",
       "0               0  OnePlus Nord 5G (Gray Onyx, 8GB RAM, 128GB Sto...   \n",
       "1               1  OnePlus Nord 5G (Gray Onyx, 8GB RAM, 128GB Sto...   \n",
       "2               2  OnePlus Nord 5G (Gray Onyx, 8GB RAM, 128GB Sto...   \n",
       "3               3  OnePlus Nord 5G (Gray Onyx, 8GB RAM, 128GB Sto...   \n",
       "4               4  OnePlus Nord 5G (Gray Onyx, 8GB RAM, 128GB Sto...   \n",
       "...           ...                                                ...   \n",
       "30607       30607  Redmi Note 9 Pro (Aurora Blue, 4GB RAM, 64GB S...   \n",
       "30608       30608  Redmi Note 9 Pro (Aurora Blue, 4GB RAM, 64GB S...   \n",
       "30609       30609  Redmi Note 9 Pro (Aurora Blue, 4GB RAM, 64GB S...   \n",
       "30610       30610  Redmi Note 9 Pro (Aurora Blue, 4GB RAM, 64GB S...   \n",
       "30611       30611  Redmi Note 9 Pro (Aurora Blue, 4GB RAM, 64GB S...   \n",
       "\n",
       "      product_company       profile_me  \\\n",
       "0             OnePlus           Nikhil   \n",
       "1             OnePlus             Amit   \n",
       "2             OnePlus        aishwarya   \n",
       "3             OnePlus          vasu a.   \n",
       "4             OnePlus  Amazon Customer   \n",
       "...               ...              ...   \n",
       "30607           Redmi           rakesh   \n",
       "30608           Redmi  Amazon Customer   \n",
       "30609           Redmi      SREEKUMAR V   \n",
       "30610           Redmi      Abhishek M.   \n",
       "30611           Redmi  Amazon Customer   \n",
       "\n",
       "                                            review_title       review_rating  \\\n",
       "0                                *Read before you buy!!*  5.0 out of 5 stars   \n",
       "1                          Near to mid range  Perfection  5.0 out of 5 stars   \n",
       "2                                           Great price!  5.0 out of 5 stars   \n",
       "3                                      Beast in OnePlus.  5.0 out of 5 stars   \n",
       "4                                Changed to Nord from 6t  5.0 out of 5 stars   \n",
       "...                                                  ...                 ...   \n",
       "30607                     Great but not satisfied for me  2.0 out of 5 stars   \n",
       "30608                                      Not recommend  2.0 out of 5 stars   \n",
       "30609  WORST MARKETING TACTICS OF FLASH SALE OF REDMI...  2.0 out of 5 stars   \n",
       "30610                            Display retention issue  2.0 out of 5 stars   \n",
       "30611                            Camera quality is bad 👎  2.0 out of 5 stars   \n",
       "\n",
       "                                             review_text  \\\n",
       "0      \\n  Yea..pre-ordered on 28 July, got it on 4 A...   \n",
       "1      \\n  Got it delivered yesterday , used for abou...   \n",
       "2                                  \\n  An amazing phone!   \n",
       "3                                        \\n  Brilliant..   \n",
       "4      \\n  I was skeptical about changing from One pl...   \n",
       "...                                                  ...   \n",
       "30607  \\n  Quality of phone is great but from my pers...   \n",
       "30608                                \\n  Not recommend\\n   \n",
       "30609  \\n  Redmi and Amazon is engaged in a worst mar...   \n",
       "30610  \\n  I am facing display retention problem, aft...   \n",
       "30611  \\n  Front camera quality is worse as compare t...   \n",
       "\n",
       "                       helpful_count  total_comments review_country  \\\n",
       "0      721 people found this helpful               3         India    \n",
       "1      436 people found this helpful               1         India    \n",
       "2      322 people found this helpful               1         India    \n",
       "3      243 people found this helpful               7         India    \n",
       "4      109 people found this helpful               2         India    \n",
       "...                              ...             ...            ...   \n",
       "30607                              0               0         India    \n",
       "30608                              0               0         India    \n",
       "30609    3 people found this helpful               0         India    \n",
       "30610                              0               0         India    \n",
       "30611                              0               0         India    \n",
       "\n",
       "          reviewed_at                                                url  \\\n",
       "0       8/4/2020 0:00  https://www.amazon.in/product-reviews/B08695ZS...   \n",
       "1       8/3/2020 0:00  https://www.amazon.in/product-reviews/B08695ZS...   \n",
       "2       8/4/2020 0:00  https://www.amazon.in/product-reviews/B08695ZS...   \n",
       "3       8/2/2020 0:00  https://www.amazon.in/product-reviews/B08695ZS...   \n",
       "4       8/4/2020 0:00  https://www.amazon.in/product-reviews/B08695ZS...   \n",
       "...               ...                                                ...   \n",
       "30607   9/3/2020 0:00  https://www.amazon.in/product-reviews/B077Q7GW...   \n",
       "30608  5/20/2020 0:00  https://www.amazon.in/product-reviews/B077Q7GW...   \n",
       "30609  6/29/2020 0:00  https://www.amazon.in/product-reviews/B077Q7GW...   \n",
       "30610  4/26/2020 0:00  https://www.amazon.in/product-reviews/B077Q7GW...   \n",
       "30611   7/5/2020 0:00  https://www.amazon.in/product-reviews/B077Q7GW...   \n",
       "\n",
       "             crawled_at                                   _id  \\\n",
       "0      10/18/2020 11:23  45ca015a-2e39-5650-a174-ba966dd1e51f   \n",
       "1      10/18/2020 11:23  6820f8ae-f3cd-5783-b826-5e5805376047   \n",
       "2      10/18/2020 11:23  bea91c43-8d65-5ef5-ab04-595a5f5cc542   \n",
       "3      10/18/2020 11:23  76f68b53-5c52-56b2-9727-a5ab8c4bb4ff   \n",
       "4      10/18/2020 11:23  22228681-b884-56a1-b04e-87167f6f76e6   \n",
       "...                 ...                                   ...   \n",
       "30607  10/18/2020 17:37  5b17d02b-9a14-5802-8523-c9835f923bd5   \n",
       "30608  10/18/2020 17:37  633b24b0-89ed-5ba6-b651-09eef6c2aa44   \n",
       "30609  10/18/2020 17:37  961649c7-ab01-5e9b-8c09-ab9e8a1e6c6d   \n",
       "30610  10/18/2020 17:37  bd56d1dc-016b-5671-ae3f-ad2529dbe0b2   \n",
       "30611  10/18/2020 17:37  23f38628-3acd-5ada-9cd8-f4d86d342987   \n",
       "\n",
       "       verified_purchase     category sub_category  \\\n",
       "0      Verified Purchase  electronics      mobiles   \n",
       "1      Verified Purchase  electronics      mobiles   \n",
       "2      Verified Purchase  electronics      mobiles   \n",
       "3      Verified Purchase  electronics      mobiles   \n",
       "4      Verified Purchase  electronics      mobiles   \n",
       "...                  ...          ...          ...   \n",
       "30607  Verified Purchase  electronics      mobiles   \n",
       "30608  Verified Purchase  electronics      mobiles   \n",
       "30609                NaN  electronics      mobiles   \n",
       "30610                NaN  electronics      mobiles   \n",
       "30611  Verified Purchase  electronics      mobiles   \n",
       "\n",
       "                                                  images  \n",
       "0      ['https://images-.ssl-images-amazon.com/images...  \n",
       "1                                                     []  \n",
       "2      ['https://images-.ssl-images-amazon.com/images...  \n",
       "3      ['https://images-.ssl-images-amazon.com/images...  \n",
       "4                                                     []  \n",
       "...                                                  ...  \n",
       "30607                                                 []  \n",
       "30608                                                 []  \n",
       "30609                                                 []  \n",
       "30610                                                 []  \n",
       "30611                                                 []  \n",
       "\n",
       "[30612 rows x 18 columns]"
      ]
     },
     "execution_count": 5,
     "metadata": {},
     "output_type": "execute_result"
    }
   ],
   "source": [
    "df = df.drop(['color', 'style_me', 'size_me'], axis=1)\n",
    "df"
   ]
  },
  {
   "cell_type": "markdown",
   "metadata": {},
   "source": [
    "Checking out again the null values."
   ]
  },
  {
   "cell_type": "code",
   "execution_count": 6,
   "metadata": {},
   "outputs": [
    {
     "data": {
      "text/plain": [
       "Unnamed: 0             0\n",
       "product                0\n",
       "product_company        0\n",
       "profile_me             0\n",
       "review_title          25\n",
       "review_rating          0\n",
       "review_text            0\n",
       "helpful_count          0\n",
       "total_comments         0\n",
       "review_country         0\n",
       "reviewed_at            0\n",
       "url                    0\n",
       "crawled_at             0\n",
       "_id                    0\n",
       "verified_purchase    613\n",
       "category               0\n",
       "sub_category           0\n",
       "images                 0\n",
       "dtype: int64"
      ]
     },
     "execution_count": 6,
     "metadata": {},
     "output_type": "execute_result"
    }
   ],
   "source": [
    "df.isnull().sum()"
   ]
  },
  {
   "cell_type": "markdown",
   "metadata": {},
   "source": [
    "Dropping samples to remove null values"
   ]
  },
  {
   "cell_type": "code",
   "execution_count": 7,
   "metadata": {},
   "outputs": [
    {
     "data": {
      "text/plain": [
       "Unnamed: 0           0\n",
       "product              0\n",
       "product_company      0\n",
       "profile_me           0\n",
       "review_title         0\n",
       "review_rating        0\n",
       "review_text          0\n",
       "helpful_count        0\n",
       "total_comments       0\n",
       "review_country       0\n",
       "reviewed_at          0\n",
       "url                  0\n",
       "crawled_at           0\n",
       "_id                  0\n",
       "verified_purchase    0\n",
       "category             0\n",
       "sub_category         0\n",
       "images               0\n",
       "dtype: int64"
      ]
     },
     "execution_count": 7,
     "metadata": {},
     "output_type": "execute_result"
    }
   ],
   "source": [
    "df = df.dropna()\n",
    "df.isnull().sum()"
   ]
  },
  {
   "cell_type": "markdown",
   "metadata": {},
   "source": [
    "Null Values are removed entirely"
   ]
  },
  {
   "cell_type": "markdown",
   "metadata": {},
   "source": [
    "Dropping unneccessory columns to reduce dimensions and making data effective for insights"
   ]
  },
  {
   "cell_type": "code",
   "execution_count": 8,
   "metadata": {},
   "outputs": [
    {
     "data": {
      "text/html": [
       "<div>\n",
       "<style scoped>\n",
       "    .dataframe tbody tr th:only-of-type {\n",
       "        vertical-align: middle;\n",
       "    }\n",
       "\n",
       "    .dataframe tbody tr th {\n",
       "        vertical-align: top;\n",
       "    }\n",
       "\n",
       "    .dataframe thead th {\n",
       "        text-align: right;\n",
       "    }\n",
       "</style>\n",
       "<table border=\"1\" class=\"dataframe\">\n",
       "  <thead>\n",
       "    <tr style=\"text-align: right;\">\n",
       "      <th></th>\n",
       "      <th>product</th>\n",
       "      <th>product_company</th>\n",
       "      <th>review_title</th>\n",
       "      <th>review_rating</th>\n",
       "      <th>review_text</th>\n",
       "      <th>total_comments</th>\n",
       "      <th>review_country</th>\n",
       "    </tr>\n",
       "  </thead>\n",
       "  <tbody>\n",
       "    <tr>\n",
       "      <th>0</th>\n",
       "      <td>OnePlus Nord 5G (Gray Onyx, 8GB RAM, 128GB Sto...</td>\n",
       "      <td>OnePlus</td>\n",
       "      <td>*Read before you buy!!*</td>\n",
       "      <td>5.0 out of 5 stars</td>\n",
       "      <td>\\n  Yea..pre-ordered on 28 July, got it on 4 A...</td>\n",
       "      <td>3</td>\n",
       "      <td>India</td>\n",
       "    </tr>\n",
       "    <tr>\n",
       "      <th>1</th>\n",
       "      <td>OnePlus Nord 5G (Gray Onyx, 8GB RAM, 128GB Sto...</td>\n",
       "      <td>OnePlus</td>\n",
       "      <td>Near to mid range  Perfection</td>\n",
       "      <td>5.0 out of 5 stars</td>\n",
       "      <td>\\n  Got it delivered yesterday , used for abou...</td>\n",
       "      <td>1</td>\n",
       "      <td>India</td>\n",
       "    </tr>\n",
       "    <tr>\n",
       "      <th>2</th>\n",
       "      <td>OnePlus Nord 5G (Gray Onyx, 8GB RAM, 128GB Sto...</td>\n",
       "      <td>OnePlus</td>\n",
       "      <td>Great price!</td>\n",
       "      <td>5.0 out of 5 stars</td>\n",
       "      <td>\\n  An amazing phone!</td>\n",
       "      <td>1</td>\n",
       "      <td>India</td>\n",
       "    </tr>\n",
       "    <tr>\n",
       "      <th>3</th>\n",
       "      <td>OnePlus Nord 5G (Gray Onyx, 8GB RAM, 128GB Sto...</td>\n",
       "      <td>OnePlus</td>\n",
       "      <td>Beast in OnePlus.</td>\n",
       "      <td>5.0 out of 5 stars</td>\n",
       "      <td>\\n  Brilliant..</td>\n",
       "      <td>7</td>\n",
       "      <td>India</td>\n",
       "    </tr>\n",
       "    <tr>\n",
       "      <th>4</th>\n",
       "      <td>OnePlus Nord 5G (Gray Onyx, 8GB RAM, 128GB Sto...</td>\n",
       "      <td>OnePlus</td>\n",
       "      <td>Changed to Nord from 6t</td>\n",
       "      <td>5.0 out of 5 stars</td>\n",
       "      <td>\\n  I was skeptical about changing from One pl...</td>\n",
       "      <td>2</td>\n",
       "      <td>India</td>\n",
       "    </tr>\n",
       "  </tbody>\n",
       "</table>\n",
       "</div>"
      ],
      "text/plain": [
       "                                             product product_company  \\\n",
       "0  OnePlus Nord 5G (Gray Onyx, 8GB RAM, 128GB Sto...         OnePlus   \n",
       "1  OnePlus Nord 5G (Gray Onyx, 8GB RAM, 128GB Sto...         OnePlus   \n",
       "2  OnePlus Nord 5G (Gray Onyx, 8GB RAM, 128GB Sto...         OnePlus   \n",
       "3  OnePlus Nord 5G (Gray Onyx, 8GB RAM, 128GB Sto...         OnePlus   \n",
       "4  OnePlus Nord 5G (Gray Onyx, 8GB RAM, 128GB Sto...         OnePlus   \n",
       "\n",
       "                    review_title       review_rating  \\\n",
       "0        *Read before you buy!!*  5.0 out of 5 stars   \n",
       "1  Near to mid range  Perfection  5.0 out of 5 stars   \n",
       "2                   Great price!  5.0 out of 5 stars   \n",
       "3              Beast in OnePlus.  5.0 out of 5 stars   \n",
       "4        Changed to Nord from 6t  5.0 out of 5 stars   \n",
       "\n",
       "                                         review_text  total_comments  \\\n",
       "0  \\n  Yea..pre-ordered on 28 July, got it on 4 A...               3   \n",
       "1  \\n  Got it delivered yesterday , used for abou...               1   \n",
       "2                              \\n  An amazing phone!               1   \n",
       "3                                    \\n  Brilliant..               7   \n",
       "4  \\n  I was skeptical about changing from One pl...               2   \n",
       "\n",
       "  review_country  \n",
       "0         India   \n",
       "1         India   \n",
       "2         India   \n",
       "3         India   \n",
       "4         India   "
      ]
     },
     "execution_count": 8,
     "metadata": {},
     "output_type": "execute_result"
    }
   ],
   "source": [
    "#Droping extra unneccessory columns\n",
    "df = df.drop(['Unnamed: 0', 'helpful_count', 'reviewed_at', 'url', 'crawled_at', 'sub_category', 'images',\n",
    "              \"profile_me\", \"verified_purchase\", \"category\", \"_id\"], axis=1)\n",
    "df.head()"
   ]
  },
  {
   "cell_type": "code",
   "execution_count": 9,
   "metadata": {},
   "outputs": [
    {
     "data": {
      "text/plain": [
       "(29974, 7)"
      ]
     },
     "execution_count": 9,
     "metadata": {},
     "output_type": "execute_result"
    }
   ],
   "source": [
    "df.shape"
   ]
  },
  {
   "cell_type": "markdown",
   "metadata": {},
   "source": [
    "Replacing review rating with single numeric value"
   ]
  },
  {
   "cell_type": "code",
   "execution_count": 10,
   "metadata": {},
   "outputs": [
    {
     "data": {
      "text/plain": [
       "0    5.0 out of 5 stars\n",
       "1    5.0 out of 5 stars\n",
       "2    5.0 out of 5 stars\n",
       "3    5.0 out of 5 stars\n",
       "4    5.0 out of 5 stars\n",
       "Name: review_rating, dtype: object"
      ]
     },
     "execution_count": 10,
     "metadata": {},
     "output_type": "execute_result"
    }
   ],
   "source": [
    "reviews = df['review_rating']\n",
    "reviews.head()"
   ]
  },
  {
   "cell_type": "code",
   "execution_count": 11,
   "metadata": {},
   "outputs": [
    {
     "data": {
      "text/html": [
       "<div>\n",
       "<style scoped>\n",
       "    .dataframe tbody tr th:only-of-type {\n",
       "        vertical-align: middle;\n",
       "    }\n",
       "\n",
       "    .dataframe tbody tr th {\n",
       "        vertical-align: top;\n",
       "    }\n",
       "\n",
       "    .dataframe thead th {\n",
       "        text-align: right;\n",
       "    }\n",
       "</style>\n",
       "<table border=\"1\" class=\"dataframe\">\n",
       "  <thead>\n",
       "    <tr style=\"text-align: right;\">\n",
       "      <th></th>\n",
       "      <th>product</th>\n",
       "      <th>product_company</th>\n",
       "      <th>review_title</th>\n",
       "      <th>review_rating</th>\n",
       "      <th>review_text</th>\n",
       "      <th>total_comments</th>\n",
       "      <th>review_country</th>\n",
       "    </tr>\n",
       "  </thead>\n",
       "  <tbody>\n",
       "    <tr>\n",
       "      <th>0</th>\n",
       "      <td>OnePlus Nord 5G (Gray Onyx, 8GB RAM, 128GB Sto...</td>\n",
       "      <td>OnePlus</td>\n",
       "      <td>*Read before you buy!!*</td>\n",
       "      <td>5</td>\n",
       "      <td>\\n  Yea..pre-ordered on 28 July, got it on 4 A...</td>\n",
       "      <td>3</td>\n",
       "      <td>India</td>\n",
       "    </tr>\n",
       "    <tr>\n",
       "      <th>1</th>\n",
       "      <td>OnePlus Nord 5G (Gray Onyx, 8GB RAM, 128GB Sto...</td>\n",
       "      <td>OnePlus</td>\n",
       "      <td>Near to mid range  Perfection</td>\n",
       "      <td>5</td>\n",
       "      <td>\\n  Got it delivered yesterday , used for abou...</td>\n",
       "      <td>1</td>\n",
       "      <td>India</td>\n",
       "    </tr>\n",
       "    <tr>\n",
       "      <th>2</th>\n",
       "      <td>OnePlus Nord 5G (Gray Onyx, 8GB RAM, 128GB Sto...</td>\n",
       "      <td>OnePlus</td>\n",
       "      <td>Great price!</td>\n",
       "      <td>5</td>\n",
       "      <td>\\n  An amazing phone!</td>\n",
       "      <td>1</td>\n",
       "      <td>India</td>\n",
       "    </tr>\n",
       "    <tr>\n",
       "      <th>3</th>\n",
       "      <td>OnePlus Nord 5G (Gray Onyx, 8GB RAM, 128GB Sto...</td>\n",
       "      <td>OnePlus</td>\n",
       "      <td>Beast in OnePlus.</td>\n",
       "      <td>5</td>\n",
       "      <td>\\n  Brilliant..</td>\n",
       "      <td>7</td>\n",
       "      <td>India</td>\n",
       "    </tr>\n",
       "    <tr>\n",
       "      <th>4</th>\n",
       "      <td>OnePlus Nord 5G (Gray Onyx, 8GB RAM, 128GB Sto...</td>\n",
       "      <td>OnePlus</td>\n",
       "      <td>Changed to Nord from 6t</td>\n",
       "      <td>5</td>\n",
       "      <td>\\n  I was skeptical about changing from One pl...</td>\n",
       "      <td>2</td>\n",
       "      <td>India</td>\n",
       "    </tr>\n",
       "  </tbody>\n",
       "</table>\n",
       "</div>"
      ],
      "text/plain": [
       "                                             product product_company  \\\n",
       "0  OnePlus Nord 5G (Gray Onyx, 8GB RAM, 128GB Sto...         OnePlus   \n",
       "1  OnePlus Nord 5G (Gray Onyx, 8GB RAM, 128GB Sto...         OnePlus   \n",
       "2  OnePlus Nord 5G (Gray Onyx, 8GB RAM, 128GB Sto...         OnePlus   \n",
       "3  OnePlus Nord 5G (Gray Onyx, 8GB RAM, 128GB Sto...         OnePlus   \n",
       "4  OnePlus Nord 5G (Gray Onyx, 8GB RAM, 128GB Sto...         OnePlus   \n",
       "\n",
       "                    review_title review_rating  \\\n",
       "0        *Read before you buy!!*             5   \n",
       "1  Near to mid range  Perfection             5   \n",
       "2                   Great price!             5   \n",
       "3              Beast in OnePlus.             5   \n",
       "4        Changed to Nord from 6t             5   \n",
       "\n",
       "                                         review_text  total_comments  \\\n",
       "0  \\n  Yea..pre-ordered on 28 July, got it on 4 A...               3   \n",
       "1  \\n  Got it delivered yesterday , used for abou...               1   \n",
       "2                              \\n  An amazing phone!               1   \n",
       "3                                    \\n  Brilliant..               7   \n",
       "4  \\n  I was skeptical about changing from One pl...               2   \n",
       "\n",
       "  review_country  \n",
       "0         India   \n",
       "1         India   \n",
       "2         India   \n",
       "3         India   \n",
       "4         India   "
      ]
     },
     "execution_count": 11,
     "metadata": {},
     "output_type": "execute_result"
    }
   ],
   "source": [
    "reviews = reviews.replace('5.0 out of 5 stars', '5')\n",
    "reviews = reviews.replace('4.0 out of 5 stars', '4')\n",
    "reviews = reviews.replace('3.0 out of 5 stars', '3')\n",
    "reviews = reviews.replace('2.0 out of 5 stars', '2')\n",
    "reviews = reviews.replace('1.0 out of 5 stars', '1')\n",
    "df['review_rating'] = reviews\n",
    "df.head()"
   ]
  },
  {
   "cell_type": "markdown",
   "metadata": {},
   "source": [
    "Taking insight from prepared data and ploting some graphs for visuals"
   ]
  },
  {
   "cell_type": "markdown",
   "metadata": {},
   "source": [
    "Source for line plot using seaborn library: https://seaborn.pydata.org/generated/seaborn.lineplot.html"
   ]
  },
  {
   "cell_type": "code",
   "execution_count": 12,
   "metadata": {},
   "outputs": [
    {
     "data": {
      "text/html": [
       "<div>\n",
       "<style scoped>\n",
       "    .dataframe tbody tr th:only-of-type {\n",
       "        vertical-align: middle;\n",
       "    }\n",
       "\n",
       "    .dataframe tbody tr th {\n",
       "        vertical-align: top;\n",
       "    }\n",
       "\n",
       "    .dataframe thead th {\n",
       "        text-align: right;\n",
       "    }\n",
       "</style>\n",
       "<table border=\"1\" class=\"dataframe\">\n",
       "  <thead>\n",
       "    <tr style=\"text-align: right;\">\n",
       "      <th></th>\n",
       "      <th>product_company</th>\n",
       "      <th>review_country</th>\n",
       "      <th>review_rating</th>\n",
       "    </tr>\n",
       "  </thead>\n",
       "  <tbody>\n",
       "    <tr>\n",
       "      <th>12551</th>\n",
       "      <td>Redmi</td>\n",
       "      <td>India</td>\n",
       "      <td>5</td>\n",
       "    </tr>\n",
       "    <tr>\n",
       "      <th>15904</th>\n",
       "      <td>Redmi</td>\n",
       "      <td>India</td>\n",
       "      <td>4</td>\n",
       "    </tr>\n",
       "  </tbody>\n",
       "</table>\n",
       "</div>"
      ],
      "text/plain": [
       "      product_company review_country review_rating\n",
       "12551           Redmi         India              5\n",
       "15904           Redmi         India              4"
      ]
     },
     "execution_count": 12,
     "metadata": {},
     "output_type": "execute_result"
    }
   ],
   "source": [
    "review_rating = df['review_rating']\n",
    "review_country = df['review_country']\n",
    "\n",
    "val_1 = df[\"product_company\"]\n",
    "val_1 = pd.DataFrame(val_1)\n",
    "val_1['review_country'] = review_country\n",
    "val_1['review_rating'] = review_rating\n",
    "val_1.sample(2)"
   ]
  },
  {
   "cell_type": "code",
   "execution_count": 13,
   "metadata": {},
   "outputs": [
    {
     "data": {
      "text/plain": [
       "<matplotlib.legend.Legend at 0x7cb1789fd0>"
      ]
     },
     "execution_count": 13,
     "metadata": {},
     "output_type": "execute_result"
    },
    {
     "data": {
      "image/png": "[encoded data removed]",
      "text/plain": [
       "<Figure size 720x432 with 1 Axes>"
      ]
     },
     "metadata": {
      "image/png": {
       "height": 371,
       "width": 736
      },
      "needs_background": "light"
     },
     "output_type": "display_data"
    }
   ],
   "source": [
    "sns.lineplot(data=val_1, x=\"review_country\", y=\"product_company\",\n",
    "             hue= \"review_rating\", style=\"review_rating\", markers=True, dashes=False)\n",
    "plt.legend(bbox_to_anchor=(1.2, 1),borderaxespad=0)"
   ]
  },
  {
   "cell_type": "code",
   "execution_count": 14,
   "metadata": {},
   "outputs": [
    {
     "data": {
      "text/plain": [
       "<matplotlib.legend.Legend at 0x7cc72ee040>"
      ]
     },
     "execution_count": 14,
     "metadata": {},
     "output_type": "execute_result"
    },
    {
     "data": {
      "image/png": "[encoded data removed]",
      "text/plain": [
       "<Figure size 720x432 with 1 Axes>"
      ]
     },
     "metadata": {
      "image/png": {
       "height": 371,
       "width": 711
      },
      "needs_background": "light"
     },
     "output_type": "display_data"
    }
   ],
   "source": [
    "sns.lineplot(data=val_1, x=\"review_country\", y=\"review_rating\", hue=\"product_company\")\n",
    "plt.legend(bbox_to_anchor=(1.2, 1),borderaxespad=0)"
   ]
  },
  {
   "cell_type": "code",
   "execution_count": 15,
   "metadata": {},
   "outputs": [
    {
     "data": {
      "text/html": [
       "<div>\n",
       "<style scoped>\n",
       "    .dataframe tbody tr th:only-of-type {\n",
       "        vertical-align: middle;\n",
       "    }\n",
       "\n",
       "    .dataframe tbody tr th {\n",
       "        vertical-align: top;\n",
       "    }\n",
       "\n",
       "    .dataframe thead th {\n",
       "        text-align: right;\n",
       "    }\n",
       "</style>\n",
       "<table border=\"1\" class=\"dataframe\">\n",
       "  <thead>\n",
       "    <tr style=\"text-align: right;\">\n",
       "      <th></th>\n",
       "      <th>product</th>\n",
       "      <th>product_company</th>\n",
       "      <th>review_title</th>\n",
       "      <th>review_rating</th>\n",
       "      <th>review_text</th>\n",
       "      <th>total_comments</th>\n",
       "      <th>review_country</th>\n",
       "    </tr>\n",
       "  </thead>\n",
       "  <tbody>\n",
       "    <tr>\n",
       "      <th>5628</th>\n",
       "      <td>OnePlus Nord 5G (Gray Onyx, 8GB RAM, 128GB Sto...</td>\n",
       "      <td>OnePlus</td>\n",
       "      <td>The camera is too worst except camera everythi...</td>\n",
       "      <td>4</td>\n",
       "      <td>\\n  The camera is too worst except camera ever...</td>\n",
       "      <td>0</td>\n",
       "      <td>India</td>\n",
       "    </tr>\n",
       "    <tr>\n",
       "      <th>22242</th>\n",
       "      <td>Redmi Note 8 (Neptune Blue, 4GB RAM, 64GB Stor...</td>\n",
       "      <td>Redmi</td>\n",
       "      <td>Disappointing Phone (Read full review)</td>\n",
       "      <td>2</td>\n",
       "      <td>\\n  Hardware Quality = Super Awesome</td>\n",
       "      <td>0</td>\n",
       "      <td>India</td>\n",
       "    </tr>\n",
       "    <tr>\n",
       "      <th>2537</th>\n",
       "      <td>OnePlus Nord 5G (Gray Onyx, 8GB RAM, 128GB Sto...</td>\n",
       "      <td>OnePlus</td>\n",
       "      <td>Good phone</td>\n",
       "      <td>5</td>\n",
       "      <td>\\n  Nice\\n</td>\n",
       "      <td>0</td>\n",
       "      <td>India</td>\n",
       "    </tr>\n",
       "    <tr>\n",
       "      <th>3762</th>\n",
       "      <td>OnePlus Nord 5G (Gray Onyx, 8GB RAM, 128GB Sto...</td>\n",
       "      <td>OnePlus</td>\n",
       "      <td>Best</td>\n",
       "      <td>5</td>\n",
       "      <td>\\n  Good phone\\n</td>\n",
       "      <td>0</td>\n",
       "      <td>India</td>\n",
       "    </tr>\n",
       "    <tr>\n",
       "      <th>730</th>\n",
       "      <td>OnePlus Nord 5G (Gray Onyx, 8GB RAM, 128GB Sto...</td>\n",
       "      <td>OnePlus</td>\n",
       "      <td>Value for money mobile</td>\n",
       "      <td>5</td>\n",
       "      <td>\\n  Superb phone for everything camera, design...</td>\n",
       "      <td>0</td>\n",
       "      <td>India</td>\n",
       "    </tr>\n",
       "  </tbody>\n",
       "</table>\n",
       "</div>"
      ],
      "text/plain": [
       "                                                 product product_company  \\\n",
       "5628   OnePlus Nord 5G (Gray Onyx, 8GB RAM, 128GB Sto...         OnePlus   \n",
       "22242  Redmi Note 8 (Neptune Blue, 4GB RAM, 64GB Stor...           Redmi   \n",
       "2537   OnePlus Nord 5G (Gray Onyx, 8GB RAM, 128GB Sto...         OnePlus   \n",
       "3762   OnePlus Nord 5G (Gray Onyx, 8GB RAM, 128GB Sto...         OnePlus   \n",
       "730    OnePlus Nord 5G (Gray Onyx, 8GB RAM, 128GB Sto...         OnePlus   \n",
       "\n",
       "                                            review_title review_rating  \\\n",
       "5628   The camera is too worst except camera everythi...             4   \n",
       "22242             Disappointing Phone (Read full review)             2   \n",
       "2537                                          Good phone             5   \n",
       "3762                                                Best             5   \n",
       "730                               Value for money mobile             5   \n",
       "\n",
       "                                             review_text  total_comments  \\\n",
       "5628   \\n  The camera is too worst except camera ever...               0   \n",
       "22242               \\n  Hardware Quality = Super Awesome               0   \n",
       "2537                                          \\n  Nice\\n               0   \n",
       "3762                                    \\n  Good phone\\n               0   \n",
       "730    \\n  Superb phone for everything camera, design...               0   \n",
       "\n",
       "      review_country  \n",
       "5628          India   \n",
       "22242         India   \n",
       "2537          India   \n",
       "3762          India   \n",
       "730           India   "
      ]
     },
     "execution_count": 15,
     "metadata": {},
     "output_type": "execute_result"
    }
   ],
   "source": [
    "df.sample(5)"
   ]
  },
  {
   "cell_type": "markdown",
   "metadata": {},
   "source": [
    "Source for cleaning and tokenizing the text: https://www.linkedin.com/learning/nlp-with-python-for-machine-learning-essential-training/welcome?u=56968457"
   ]
  },
  {
   "cell_type": "code",
   "execution_count": 16,
   "metadata": {},
   "outputs": [],
   "source": [
    "def remove_punct(text):\n",
    "    text_nopunct = \"\".join([char for char in text if char not in string.punctuation])\n",
    "    return text_nopunct\n",
    "\n",
    "def clean_text(text):\n",
    "    text = \"\".join([word.lower() for word in text if word not in string.punctuation])\n",
    "    tokens = re.split('\\W+', text)\n",
    "   \n",
    "    text = [word for word in tokens if word not in stopwords]\n",
    "    return text\n"
   ]
  },
  {
   "cell_type": "code",
   "execution_count": 17,
   "metadata": {},
   "outputs": [
    {
     "data": {
      "text/html": [
       "<div>\n",
       "<style scoped>\n",
       "    .dataframe tbody tr th:only-of-type {\n",
       "        vertical-align: middle;\n",
       "    }\n",
       "\n",
       "    .dataframe tbody tr th {\n",
       "        vertical-align: top;\n",
       "    }\n",
       "\n",
       "    .dataframe thead th {\n",
       "        text-align: right;\n",
       "    }\n",
       "</style>\n",
       "<table border=\"1\" class=\"dataframe\">\n",
       "  <thead>\n",
       "    <tr style=\"text-align: right;\">\n",
       "      <th></th>\n",
       "      <th>product</th>\n",
       "      <th>product_company</th>\n",
       "      <th>review_title</th>\n",
       "      <th>review_rating</th>\n",
       "      <th>review_text</th>\n",
       "      <th>total_comments</th>\n",
       "      <th>review_country</th>\n",
       "    </tr>\n",
       "  </thead>\n",
       "  <tbody>\n",
       "    <tr>\n",
       "      <th>0</th>\n",
       "      <td>OnePlus Nord 5G Gray Onyx 8GB RAM 128GB Storage</td>\n",
       "      <td>OnePlus</td>\n",
       "      <td>Read before you buy</td>\n",
       "      <td>5</td>\n",
       "      <td>\\n  Yeapreordered on 28 July got it on 4 Augus...</td>\n",
       "      <td>3</td>\n",
       "      <td>India</td>\n",
       "    </tr>\n",
       "    <tr>\n",
       "      <th>1</th>\n",
       "      <td>OnePlus Nord 5G Gray Onyx 8GB RAM 128GB Storage</td>\n",
       "      <td>OnePlus</td>\n",
       "      <td>Near to mid range  Perfection</td>\n",
       "      <td>5</td>\n",
       "      <td>\\n  Got it delivered yesterday  used for about...</td>\n",
       "      <td>1</td>\n",
       "      <td>India</td>\n",
       "    </tr>\n",
       "  </tbody>\n",
       "</table>\n",
       "</div>"
      ],
      "text/plain": [
       "                                           product product_company  \\\n",
       "0  OnePlus Nord 5G Gray Onyx 8GB RAM 128GB Storage         OnePlus   \n",
       "1  OnePlus Nord 5G Gray Onyx 8GB RAM 128GB Storage         OnePlus   \n",
       "\n",
       "                    review_title review_rating  \\\n",
       "0            Read before you buy             5   \n",
       "1  Near to mid range  Perfection             5   \n",
       "\n",
       "                                         review_text  total_comments  \\\n",
       "0  \\n  Yeapreordered on 28 July got it on 4 Augus...               3   \n",
       "1  \\n  Got it delivered yesterday  used for about...               1   \n",
       "\n",
       "  review_country  \n",
       "0         India   \n",
       "1         India   "
      ]
     },
     "execution_count": 17,
     "metadata": {},
     "output_type": "execute_result"
    }
   ],
   "source": [
    "df[\"product\"] = df[\"product\"].apply(lambda x: remove_punct(x))\n",
    "df[\"review_text\"] = df[\"review_text\"].apply(lambda x: remove_punct(x))\n",
    "df[\"review_title\"] = df[\"review_title\"].apply(lambda x: remove_punct(x))\n",
    "\n",
    "df.head(2)"
   ]
  },
  {
   "cell_type": "code",
   "execution_count": 18,
   "metadata": {},
   "outputs": [
    {
     "data": {
      "text/html": [
       "<div>\n",
       "<style scoped>\n",
       "    .dataframe tbody tr th:only-of-type {\n",
       "        vertical-align: middle;\n",
       "    }\n",
       "\n",
       "    .dataframe tbody tr th {\n",
       "        vertical-align: top;\n",
       "    }\n",
       "\n",
       "    .dataframe thead th {\n",
       "        text-align: right;\n",
       "    }\n",
       "</style>\n",
       "<table border=\"1\" class=\"dataframe\">\n",
       "  <thead>\n",
       "    <tr style=\"text-align: right;\">\n",
       "      <th></th>\n",
       "      <th>product</th>\n",
       "      <th>product_company</th>\n",
       "      <th>review_title</th>\n",
       "      <th>review_rating</th>\n",
       "      <th>review_text</th>\n",
       "      <th>total_comments</th>\n",
       "      <th>review_country</th>\n",
       "    </tr>\n",
       "  </thead>\n",
       "  <tbody>\n",
       "    <tr>\n",
       "      <th>0</th>\n",
       "      <td>[oneplus, nord, 5g, gray, onyx, 8gb, ram, 128g...</td>\n",
       "      <td>OnePlus</td>\n",
       "      <td>[read, buy]</td>\n",
       "      <td>5</td>\n",
       "      <td>[, yeapreordered, 28, july, got, 4, august, pa...</td>\n",
       "      <td>3</td>\n",
       "      <td>India</td>\n",
       "    </tr>\n",
       "    <tr>\n",
       "      <th>1</th>\n",
       "      <td>[oneplus, nord, 5g, gray, onyx, 8gb, ram, 128g...</td>\n",
       "      <td>OnePlus</td>\n",
       "      <td>[near, mid, range, perfection]</td>\n",
       "      <td>5</td>\n",
       "      <td>[, got, delivered, yesterday, used, 56, hours,...</td>\n",
       "      <td>1</td>\n",
       "      <td>India</td>\n",
       "    </tr>\n",
       "  </tbody>\n",
       "</table>\n",
       "</div>"
      ],
      "text/plain": [
       "                                             product product_company  \\\n",
       "0  [oneplus, nord, 5g, gray, onyx, 8gb, ram, 128g...         OnePlus   \n",
       "1  [oneplus, nord, 5g, gray, onyx, 8gb, ram, 128g...         OnePlus   \n",
       "\n",
       "                     review_title review_rating  \\\n",
       "0                     [read, buy]             5   \n",
       "1  [near, mid, range, perfection]             5   \n",
       "\n",
       "                                         review_text  total_comments  \\\n",
       "0  [, yeapreordered, 28, july, got, 4, august, pa...               3   \n",
       "1  [, got, delivered, yesterday, used, 56, hours,...               1   \n",
       "\n",
       "  review_country  \n",
       "0         India   \n",
       "1         India   "
      ]
     },
     "execution_count": 18,
     "metadata": {},
     "output_type": "execute_result"
    }
   ],
   "source": [
    "df[\"product\"] = df[\"product\"].apply(lambda x: clean_text(x))\n",
    "df[\"review_text\"] = df[\"review_text\"].apply(lambda x: clean_text(x))\n",
    "df[\"review_title\"] = df[\"review_title\"].apply(lambda x: clean_text(x))\n",
    "\n",
    "df.head(2)"
   ]
  },
  {
   "cell_type": "markdown",
   "metadata": {},
   "source": [
    "Source for applying model and sentimental analysis: https://cnvrg.io/sentiment-analysis-python/?gclid=CjwKCAjw9r-DBhBxEiwA9qYUpTTOpoHF_0Hn_9b-IEB7Dr0E-9UKoJkh8ISeBP126QlC0EqhUwq4xBoC9a4QAvD_BwE"
   ]
  },
  {
   "cell_type": "code",
   "execution_count": 19,
   "metadata": {},
   "outputs": [
    {
     "data": {
      "text/plain": [
       "5    13709\n",
       "4     8443\n",
       "3     4051\n",
       "1     1984\n",
       "2     1787\n",
       "Name: review_rating, dtype: int64"
      ]
     },
     "execution_count": 19,
     "metadata": {},
     "output_type": "execute_result"
    }
   ],
   "source": [
    "df['review_rating'].value_counts()"
   ]
  },
  {
   "cell_type": "code",
   "execution_count": 20,
   "metadata": {},
   "outputs": [],
   "source": [
    "df['Length'] = df['review_text'].apply(len)"
   ]
  },
  {
   "cell_type": "code",
   "execution_count": 21,
   "metadata": {},
   "outputs": [
    {
     "data": {
      "text/plain": [
       "<AxesSubplot:ylabel='Frequency'>"
      ]
     },
     "execution_count": 21,
     "metadata": {},
     "output_type": "execute_result"
    },
    {
     "data": {
      "image/png": "[encoded data removed]",
      "text/plain": [
       "<Figure size 720x432 with 1 Axes>"
      ]
     },
     "metadata": {
      "image/png": {
       "height": 357,
       "width": 625
      },
      "needs_background": "light"
     },
     "output_type": "display_data"
    }
   ],
   "source": [
    "df['Length'].plot(kind = 'hist' , bins = 50) "
   ]
  },
  {
   "cell_type": "code",
   "execution_count": 22,
   "metadata": {},
   "outputs": [
    {
     "data": {
      "text/plain": [
       "Text(0.5, 0.98, 'Length via each review_rating')"
      ]
     },
     "execution_count": 22,
     "metadata": {},
     "output_type": "execute_result"
    },
    {
     "data": {
      "image/png": "[encoded data removed]",
      "text/plain": [
       "<Figure size 720x720 with 6 Axes>"
      ]
     },
     "metadata": {
      "image/png": {
       "height": 638,
       "width": 623
      },
      "needs_background": "light"
     },
     "output_type": "display_data"
    }
   ],
   "source": [
    "ax = df.hist(column = 'Length', by = 'review_rating', bins = 50 , figsize = (10,10));\n",
    "pl.suptitle('Length via each review_rating')"
   ]
  },
  {
   "cell_type": "code",
   "execution_count": 23,
   "metadata": {},
   "outputs": [],
   "source": [
    "from sklearn.feature_extraction.text import CountVectorizer\n",
    "bow = CountVectorizer(analyzer=clean_text)"
   ]
  },
  {
   "cell_type": "code",
   "execution_count": 24,
   "metadata": {},
   "outputs": [],
   "source": [
    "from sklearn.feature_extraction.text import TfidfTransformer\n",
    "tfidf = TfidfTransformer()"
   ]
  },
  {
   "cell_type": "code",
   "execution_count": 25,
   "metadata": {},
   "outputs": [],
   "source": [
    "from sklearn.naive_bayes import MultinomialNB\n",
    "classifier = MultinomialNB()"
   ]
  },
  {
   "cell_type": "code",
   "execution_count": 26,
   "metadata": {},
   "outputs": [],
   "source": [
    "from sklearn.pipeline import Pipeline\n",
    "\n",
    "pipeline = Pipeline([\n",
    "    ('bow', bow),  # strings to token integer counts\n",
    "    ('tfidf', tfidf),  # integer counts to weighted TF-IDF scores\n",
    "    ('classifier', classifier),  # train on TF-IDF vectors w/ Naive Bayes classifier\n",
    "])"
   ]
  },
  {
   "cell_type": "markdown",
   "metadata": {},
   "source": [
    "# Step-2: Applying Model"
   ]
  },
  {
   "cell_type": "code",
   "execution_count": 27,
   "metadata": {},
   "outputs": [
    {
     "data": {
      "text/plain": [
       "Pipeline(steps=[('bow',\n",
       "                 CountVectorizer(analyzer=<function clean_text at 0x0000007CC7F459D0>)),\n",
       "                ('tfidf', TfidfTransformer()),\n",
       "                ('classifier', MultinomialNB())])"
      ]
     },
     "execution_count": 27,
     "metadata": {},
     "output_type": "execute_result"
    }
   ],
   "source": [
    "pipeline.fit(df['review_text'], df['review_rating']) "
   ]
  },
  {
   "cell_type": "code",
   "execution_count": 28,
   "metadata": {},
   "outputs": [
    {
     "data": {
      "text/plain": [
       "0.6763862013745245"
      ]
     },
     "execution_count": 28,
     "metadata": {},
     "output_type": "execute_result"
    }
   ],
   "source": [
    "pipeline.score(df['review_text'], df['review_rating'])"
   ]
  },
  {
   "cell_type": "code",
   "execution_count": 29,
   "metadata": {},
   "outputs": [
    {
     "name": "stdout",
     "output_type": "stream",
     "text": [
      "              precision    recall  f1-score   support\n",
      "\n",
      "           1       0.77      0.02      0.04      1984\n",
      "           2       0.00      0.00      0.00      1787\n",
      "           3       0.64      0.06      0.11      4051\n",
      "           4       0.92      0.76      0.84      8443\n",
      "           5       0.60      0.99      0.75     13709\n",
      "\n",
      "    accuracy                           0.68     29974\n",
      "   macro avg       0.59      0.37      0.34     29974\n",
      "weighted avg       0.67      0.68      0.59     29974\n",
      "\n"
     ]
    }
   ],
   "source": [
    "from sklearn.metrics import classification_report\n",
    "\n",
    "all_predictions = pipeline.predict(df['review_text'])\n",
    "print(classification_report(df['review_rating'], all_predictions))"
   ]
  },
  {
   "cell_type": "code",
   "execution_count": null,
   "metadata": {},
   "outputs": [],
   "source": []
  }
 ],
 "metadata": {
  "kernelspec": {
   "display_name": "Python 3",
   "language": "python",
   "name": "python3"
  },
  "language_info": {
   "codemirror_mode": {
    "name": "ipython",
    "version": 3
   },
   "file_extension": ".py",
   "mimetype": "text/x-python",
   "name": "python",
   "nbconvert_exporter": "python",
   "pygments_lexer": "ipython3",
   "version": "3.9.2"
  }
 },
 "nbformat": 4,
 "nbformat_minor": 4
}
